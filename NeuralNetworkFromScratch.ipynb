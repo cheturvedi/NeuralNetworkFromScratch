{
  "nbformat": 4,
  "nbformat_minor": 0,
  "metadata": {
    "colab": {
      "name": "CK_NJ_Dropout_Jitter.ipynb",
      "provenance": [],
      "collapsed_sections": []
    },
    "kernelspec": {
      "name": "python3",
      "display_name": "Python 3"
    }
  },
  "cells": [
    {
      "cell_type": "code",
      "metadata": {
        "id": "aIfr62juigaC",
        "colab_type": "code",
        "colab": {}
      },
      "source": [
        "import datetime\n",
        "import numpy as np\n",
        "import pandas as pd\n",
        "import matplotlib.pyplot as plt\n",
        "\n",
        "from sklearn.metrics import accuracy_score\n",
        "from sklearn.model_selection import train_test_split\n",
        "from sklearn.preprocessing import Normalizer"
      ],
      "execution_count": null,
      "outputs": []
    },
    {
      "cell_type": "markdown",
      "metadata": {
        "id": "AX0QOj06EOVk",
        "colab_type": "text"
      },
      "source": [
        "\n",
        "## Part 1 - Implementing One layer Neural Network\n",
        "\n",
        "This implementation of one hidden layer neural network is similar to the scikit-learn design of ML algorithms\n",
        "\n",
        "In order to use our one hidden layer neural network for classification, user's must:\n",
        "\n",
        "\n",
        "1.   Call the constructor **OneLayerNeuralNet** with the desired hyperparameters\n",
        "2.   Call the method **fit** with the training features & target labels in pandas DataFrames\n",
        "3.   Call the method **predict** with the testing dataframe\n",
        "\n",
        "Below we can find the full implementation"
      ]
    },
    {
      "cell_type": "markdown",
      "metadata": {
        "id": "okJ3oLWixjcq",
        "colab_type": "text"
      },
      "source": [
        "### Algorithm Description\n",
        "\n",
        "**Feedforward Step**\n",
        "\n",
        "Each of the features in the input correspond to 1 neuron in the input layer. \n",
        "\n",
        "The number of neurons in the hidden layer are user defined. The activation of the hidden layer neuron is governed by a sigmoid or tanh or relu function which takes as input the weighted sum of the input layer activations\n",
        "\n",
        "The output layer consists of 1 neuron which emits a 0 or 1 signal which is the predicted output for the input example. This activation is calculated as sigmoid of the weighted sum of hidden layer activations. This is simliar to  multiple logistic regression.\n",
        "\n",
        "\n",
        "**Backpropogation**\n",
        "\n",
        "\n",
        "We have referred to Andrew Ng's Deep Learning course (http://www.coursera.org/specializations/deep-learning) to build our backprop algorithm\n",
        "\n",
        "The explanation of backprop is also available in \n",
        "https://www.ics.uci.edu/~pjsadows/notes.pdf\n",
        "\n",
        "In the above reference, Peter Sadowski says it is standard to use a cross-entropy function in neural networks for two class classification problem\n",
        "\n",
        "Our assigment also classifies the dataset into two classes. \n",
        "* For small dataset - 0/1 \n",
        "* For large dataset - Automobile / Truck - 0/1\n",
        "\n",
        "Hence our loss function is defined as\n",
        "![Cross Entropy loss](https://wikimedia.org/api/rest_v1/media/math/render/svg/80f87a71d3a616a0939f5360cec24d702d2593a2)\n",
        "\n",
        "For this cross entropy loss function, Andrew Ng's deep learning course \n",
        "\n",
        "has given us the Partial derivative with respect to all weights and biases in the vectorized format as \n",
        "\n",
        "![Andrew's equations ](https://miro.medium.com/max/714/1*ohfvtAN6AOV8mhBwr4PApQ.png)\n",
        "\n",
        "which is what is implemented here.\n",
        "\n",
        "Finally after the computing the gradients the parameters are updated using the equations given in http://ufldl.stanford.edu/tutorial/supervised/MultiLayerNeuralNetworks/\n",
        "\n",
        "W = W - learning_rate * gradientW\n",
        "\n",
        "B = B - learning_rate * gradientB\n",
        "\n",
        "where gradients for W2, B2, W1, B1 is governed by the vectorised equations from above.\n",
        "\n",
        "\n",
        "\n",
        "\n"
      ]
    },
    {
      "cell_type": "code",
      "metadata": {
        "id": "TbUbwPdzuLd8",
        "colab_type": "code",
        "colab": {}
      },
      "source": [
        "#Author : Chandrakanth Cheturvedi \n",
        "class OneLayerNeuralNet():\n",
        "\n",
        "  # Dict containing number of neurons in hidden layer,input & output layers \n",
        "  #                 number of iterations , activation function \n",
        "  __hyper_params = {}\n",
        "\n",
        "  # Dict of Weights & biases for hidden layer & output \n",
        "  __network_params = {}\n",
        "\n",
        "  # Dict of Activations and summations producing those activations\n",
        "  __network_state = {}\n",
        "\n",
        "  # train data\n",
        "  __X_train = None\n",
        "  __Y_train = None\n",
        "\n",
        "  #Author : Chandrakanth Cheturvedi\n",
        "  def __init__(self,hyper_params):\n",
        "    self.__hyper_params = hyper_params\n",
        "    \n",
        "  #Author : Chandrakanth Cheturvedi\n",
        "  def init_network_params(self):\n",
        "\n",
        "    x = self.__hyper_params['input_neurons']\n",
        "    h = self.__hyper_params['hidden_neurons']\n",
        "    y = self.__hyper_params['output_neurons']\n",
        "    \n",
        "    # One row for each hidden layer neuron\n",
        "    # one column for each input layer neuron\n",
        "    W1 = np.random.randn(h, x) * 1e-02\n",
        "    B1 = np.zeros(shape=(h, 1))\n",
        "\n",
        "    W2 = np.random.randn(y, h) * 1e-02\n",
        "    B2 = np.zeros(shape=(y, 1))\n",
        "\n",
        "    self.__network_params[\"W1\"] = W1\n",
        "    self.__network_params[\"B1\"] = B1\n",
        "    self.__network_params[\"W2\"] = W2\n",
        "    self.__network_params[\"B2\"] = B2\n",
        "\n",
        "  #Author : Chandrakanth Cheturvedi\n",
        "  def sigmoid(self,z):\n",
        "    return 1/(1+np.exp(-z))\n",
        "\n",
        "  #Author : Chandrakanth Cheturvedi\n",
        "  def activation(self,z):\n",
        "    if self.__hyper_params['activation'] == 'sigmoid':\n",
        "      return self.sigmoid(z)\n",
        "    if self.__hyper_params['activation'] == \"ReLU\":\n",
        "       return np.maximum(z,0)\n",
        "    if self.__hyper_params['activation'] == \"tanh\":\n",
        "       return np.tanh(z)\n",
        "\n",
        "  #Author : Chandrakanth Cheturvedi\n",
        "  def derivative_activation(self,z):\n",
        "    if self.__hyper_params['activation'] == \"sigmoid\":\n",
        "      return self.dSigmoid(z)\n",
        "    if self.__hyper_params['activation'] == \"ReLU\":\n",
        "      return self.dRelu(z)\n",
        "    if self.__hyper_params['activation'] == \"tanh\":\n",
        "      return self.dTanh(z)\n",
        "     \n",
        "  \n",
        "  #Author : Chandrakanth Cheturvedi\n",
        "  def dRelu(self,z):\n",
        "    z[z<=0] = 0\n",
        "    z[z>0] = 1\n",
        "    return z\n",
        "\n",
        "  #Author : Chandrakanth Cheturvedi\n",
        "  def dTanh(self,z):\n",
        "    return 1 - np.power(z, 2)\n",
        "\n",
        "  #Author : Chandrakanth Cheturvedi\n",
        "  def dSigmoid(self,z):\n",
        "    return np.multiply(z,(1-z))\n",
        "\n",
        "  #Author : Chandrakanth Cheturvedi\n",
        "  def cost(self):\n",
        "\n",
        "    # total number of samples\n",
        "    n = self.__X_train.shape[0]\n",
        "\n",
        "    #predicted Y (y_hat) is the activation at output layer\n",
        "    y_hat = self.__network_state[\"A2\"] \n",
        "\n",
        "    #y_actual\n",
        "    y = self.__Y_train\n",
        "\n",
        "    #cross entropy loss defined in https://www.ics.uci.edu/~pjsadows/notes.pdf\n",
        "    entropy_loss = np.multiply(np.log(y_hat), y) + np.multiply((1 - y), np.log(1 - y_hat))\n",
        "    cost = - np.sum(entropy_loss) /n\n",
        " \n",
        "    # cost is [[cost_value]] as our Y is [[0] or [1]], get rid of extra dimension\n",
        "    return np.squeeze(cost) \n",
        "\n",
        "  #Author : Chandrakanth Cheturvedi\n",
        "  def forward_propogation(self,X):\n",
        "\n",
        "     W1 = self.__network_params[\"W1\"]\n",
        "     B1 = self.__network_params[\"B1\"]\n",
        "     W2 = self.__network_params[\"W2\"]\n",
        "     B2 = self.__network_params[\"B2\"]\n",
        "\n",
        "\n",
        "     Z1 = np.dot(X,W1.T) + B1.T\n",
        "     A1 = self.activation(Z1)\n",
        "     Z2 = np.dot(A1,W2.T) + B2\n",
        "     A2 = self.sigmoid(Z2)\n",
        "\n",
        "     self.__network_state[\"Z1\"] = Z1\n",
        "     self.__network_state[\"A1\"] = A1\n",
        "     self.__network_state[\"Z2\"] = Z2\n",
        "     self.__network_state[\"A2\"] = A2\n",
        "\n",
        "  \n",
        "  #Author : Chandrakanth Cheturvedi\n",
        "  def backward_prop(self):\n",
        "\n",
        "    X = self.__X_train\n",
        "    Y = self.__Y_train\n",
        "    m = X.shape[0]\n",
        "\n",
        "    W1 = self.__network_params[\"W1\"]\n",
        "    W2 = self.__network_params[\"W2\"]\n",
        "\n",
        "    A1 = self.__network_state[\"A1\"] \n",
        "    A2 =self.__network_state[\"A2\"] \n",
        "\n",
        "    dZ2= A2 - Y # error = Activation - actual\n",
        "\n",
        "    dW2 = (1 / m) * np.dot(dZ2.T, A1) # delta weight2 \n",
        "\n",
        "    db2 = (1 / m) * np.sum(dZ2, axis=0, keepdims=True)\n",
        "\n",
        "    #dZ1 = np.multiply(np.dot(dZ2,W2), np.multiply(A1,(1-A1))) # sigmoid\n",
        "    # dZ1 = np.multiply(np.dot(dZ2,W2), self.dRelu(A1)) # ReLU\n",
        "    # dZ1 = np.multiply(np.dot(dZ2,W2), 1 - np.power(A1, 2)) # tanh\n",
        "\n",
        "    delta = self.derivative_activation(A1)\n",
        "    dZ1 = np.multiply(np.dot(dZ2,W2),delta) \n",
        "    \n",
        "    dW1 = (1 / m) * np.dot(dZ1.T, X)\n",
        "\n",
        "    db1 = (1 / m) * np.sum(dZ1.T, axis=1, keepdims=True)\n",
        "\n",
        "    return {\n",
        "        \"dZ2\" : dZ2,\n",
        "        \"dW2\" : dW2,\n",
        "        \"db2\" : db2,\n",
        "        \"dZ1\" : dZ1,\n",
        "        \"dW1\" : dW1,\n",
        "        \"db1\" : db1\n",
        "    }\n",
        "\n",
        "\n",
        "  #Author : Chandrakanth Cheturvedi\n",
        "  def fit(self,X_train,Y_train):\n",
        "\n",
        "    self.__X_train = X_train\n",
        "    self.__Y_train = Y_train\n",
        "    alpha = self.__hyper_params['learning_rate']\n",
        "\n",
        "    # figure out layer sizes\n",
        "    self.__hyper_params['input_neurons'] = self.__X_train.shape[1]\n",
        "    self.__hyper_params['output_neurons'] = self.__Y_train.shape[1]\n",
        "\n",
        "    # initialize weights & biases\n",
        "    self.init_network_params()\n",
        "\n",
        "    # while not converged\n",
        "    #   forward prop\n",
        "    #   compute cost of current state\n",
        "    #   backward prop\n",
        "    #   update network params\n",
        "    iters = 0\n",
        "    while iters <= self.__hyper_params['num_iter'] :\n",
        "\n",
        "      self.forward_propogation(self.__X_train)\n",
        "      \n",
        "      cost = self.cost()\n",
        "      iters = iters + 1\n",
        "\n",
        "      \n",
        "      gradients = self.backward_prop()\n",
        "\n",
        "      # updating parameters equations are implemented as specified in \n",
        "      # http://ufldl.stanford.edu/tutorial/supervised/MultiLayerNeuralNetworks/\n",
        "      self.__network_params[\"W1\"] = self.__network_params[\"W1\"]  - alpha * gradients[\"dW1\"]\n",
        "      self.__network_params[\"W2\"] = self.__network_params[\"W2\"]  - alpha * gradients[\"dW2\"]\n",
        "      self.__network_params[\"B1\"] = self.__network_params[\"B1\"]  - alpha * gradients[\"db1\"]\n",
        "      self.__network_params[\"B2\"] = self.__network_params[\"B2\"]  - alpha * gradients[\"db2\"]\n",
        "\n",
        "      if iters % 500 == 0:\n",
        "         print(\"====> Cost at epoch \",iters,cost)\n",
        "        #print(\"Network params\", self.__network_params)\n",
        "\n",
        "  #Author : Chandrakanth Cheturvedi\n",
        "  def predict(self,X_test):\n",
        "    self.forward_propogation(X_test)\n",
        "    return np.round(self.__network_state[\"A2\"])\n",
        "\n",
        "  #Author : Chandrakanth Cheturvedi\n",
        "  def get_params(self):\n",
        "    return self.__network_params\n",
        "\n",
        "  #Author : Chandrakanth Cheturvedi\n",
        "  def get_hyper_params(self):\n",
        "    return self.__hyper_params\n"
      ],
      "execution_count": null,
      "outputs": []
    },
    {
      "cell_type": "markdown",
      "metadata": {
        "id": "_hJhRZaQGjDD",
        "colab_type": "text"
      },
      "source": [
        "## Circle Dataset classification\n",
        "\n",
        "A scatterplot of the dataset makes it clear to us that the decision boundary between the two classes (0 and 1) is non - linear\n",
        "\n",
        "As a result no linear classification method can be meaningfully used here.\n",
        "\n",
        "### Loading Circles Dataset"
      ]
    },
    {
      "cell_type": "code",
      "metadata": {
        "id": "-XD0gatPA3Z2",
        "colab_type": "code",
        "colab": {
          "base_uri": "https://localhost:8080/",
          "height": 265
        },
        "outputId": "0b0d9e6b-5eed-490b-d649-a2b30402e27f"
      },
      "source": [
        "# Author : Nakul Joseph\n",
        "\n",
        "# Read dataset to pandas dataframe.\n",
        "circlesdata = pd.read_csv(\"circles500.csv\")\n",
        "X = circlesdata.iloc[:, 0:2]\n",
        "y = circlesdata.iloc[:,-1]\n",
        "\n",
        "# Plot x0 vs x1 and colour by Y values\n",
        "plt.scatter(X.iloc[:,0],X.iloc[:,1],c=np.squeeze(y))\n",
        "\n",
        "# Reshape Y to be a vector \n",
        "nrows = y.shape[0]\n",
        "y = y.to_numpy().reshape(nrows,1)\n",
        "\n"
      ],
      "execution_count": null,
      "outputs": [
        {
          "output_type": "display_data",
          "data": {
            "image/png": "[encoded data removed]",
            "text/plain": [
              "<Figure size 432x288 with 1 Axes>"
            ]
          },
          "metadata": {
            "tags": []
          }
        }
      ]
    },
    {
      "cell_type": "markdown",
      "metadata": {
        "id": "5i-oUpEgH3gY",
        "colab_type": "text"
      },
      "source": [
        "Our implementation of a one hidden layer neural network is utilized to classify this dataset with high accuracy\n",
        "\n",
        "We are setting the number of neurons in the hidden layer is 4\n",
        "The activation of the output layer is the sigmoid function\n",
        "\n",
        "### Training & Testing\n",
        "\n",
        "sklearn's preprocessing module allows to split the dataset into \n",
        "75 % for training and 25% for testing by default"
      ]
    },
    {
      "cell_type": "code",
      "metadata": {
        "id": "wSn53tebHLfa",
        "colab_type": "code",
        "colab": {
          "base_uri": "https://localhost:8080/",
          "height": 374
        },
        "outputId": "cb0dd114-8af3-4097-827d-6e90c752664f"
      },
      "source": [
        "X_train, X_test, y_train, y_test = train_test_split(X, y, random_state = 233)\n",
        "\n",
        "hyper_params = { 'num_iter' : 10000,\n",
        "                  'activation' : 'sigmoid' ,\n",
        "                  'hidden_neurons' : 4,\n",
        "                  'learning_rate' : 0.5}\n",
        "\n",
        "nn = OneLayerNeuralNet(hyper_params)\n",
        "nn.fit(X_train,y_train)\n",
        "y_predicted = nn.predict(X_test)\n",
        "\n",
        "print(\"Accuracy :\", 100 *accuracy_score(y_test,y_predicted),\"%\")"
      ],
      "execution_count": null,
      "outputs": [
        {
          "output_type": "stream",
          "text": [
            "====> Cost at epoch  500 0.6931420327688296\n",
            "====> Cost at epoch  1000 0.6931395002661799\n",
            "====> Cost at epoch  1500 0.6931333202418706\n",
            "====> Cost at epoch  2000 0.6931185223901948\n",
            "====> Cost at epoch  2500 0.6930853877562161\n",
            "====> Cost at epoch  3000 0.6930214877749247\n",
            "====> Cost at epoch  3500 0.6929270673207044\n",
            "====> Cost at epoch  4000 0.6928230696013411\n",
            "====> Cost at epoch  4500 0.6926969393525636\n",
            "====> Cost at epoch  5000 0.6923598385974558\n",
            "====> Cost at epoch  5500 0.6897995314337979\n",
            "====> Cost at epoch  6000 0.6644117858580165\n",
            "====> Cost at epoch  6500 0.5910146279330946\n",
            "====> Cost at epoch  7000 0.5138286544177483\n",
            "====> Cost at epoch  7500 0.40736690494078615\n",
            "====> Cost at epoch  8000 0.19883067088677195\n",
            "====> Cost at epoch  8500 0.137420880519005\n",
            "====> Cost at epoch  9000 0.1103297560910056\n",
            "====> Cost at epoch  9500 0.09464933898601749\n",
            "====> Cost at epoch  10000 0.08402659542278738\n",
            "Accuracy : 96.8 %\n"
          ],
          "name": "stdout"
        }
      ]
    },
    {
      "cell_type": "markdown",
      "metadata": {
        "id": "7wDwjoNQEKmH",
        "colab_type": "text"
      },
      "source": [
        "### Observations\n",
        "\n",
        "The Circles dataset is non-liner therefore Neural network can be used for classification.\n",
        "\n",
        "A Neural network with 4 neurons in the hidden layer and Sigmoid as the activation function in the hidden and output layer gives us an accuracy of **98.4%** with a learning rate of 0.5 and 10000 iterations.\n",
        "\n",
        "*   The algorithm fails to converge on the cost if the iterations are less than 10000.\n",
        "*   We have tested learning rate > 0.5, which gives more accuracy but it tends to overfit the data. Therefore, the learning rate was limited to 0.5. A very low learning rate also shows convergence issues."
      ]
    },
    {
      "cell_type": "markdown",
      "metadata": {
        "id": "EWNFBMAuNT7V",
        "colab_type": "text"
      },
      "source": [
        "Image classification of automobile / truck\n",
        "\n",
        "Our objective is to classify a given cifar-10 images as an automobile or a truck. \n",
        "\n",
        "The cifar-10 dataset is a 10000 X 3072 int values \n",
        "\n",
        "Each consecutive 1024 values represents one of Red, Green,Blue  bands\n",
        "\n",
        "we are using the last 1024 values or the blue band to train and predict the classes.\n",
        "\n",
        "The lable names are 9 for truck , 1 for automobile\n",
        "We are encoding trucks class as 0 instead of 9\n",
        "\n",
        "\n"
      ]
    },
    {
      "cell_type": "markdown",
      "metadata": {
        "id": "J13bwCTlROfP",
        "colab_type": "text"
      },
      "source": [
        "### Loading CIFAR-10 Images Dataset"
      ]
    },
    {
      "cell_type": "code",
      "metadata": {
        "id": "1ekNN0LHNbKM",
        "colab_type": "code",
        "colab": {}
      },
      "source": [
        "# This function taken from the CIFAR website\n",
        "\n",
        "def unpickle(file):\n",
        "    import pickle\n",
        "    with open(file, 'rb') as fo:\n",
        "        dict = pickle.load(fo, encoding='bytes')\n",
        "    return dict\n",
        "\n",
        "# Loaded in this way, each of the batch files contains a dictionary with the following elements:\n",
        "#   data -- a 10000x3072 numpy array of uint8s. Each row of the array stores a 32x32 colour image. \n",
        "#           The first 1024 entries contain the red channel values, the next 1024 the green, and the final 1024 the blue. \n",
        "#           The image is stored in row-major order, so that the first 32 entries of the array are the red channel values \n",
        "#           of the first row of the image.\n",
        "#   labels -- a list of 10000 numbers in the range 0-9. \n",
        "#             The number at index i indicates the label of the ith image in the array data."
      ],
      "execution_count": null,
      "outputs": []
    },
    {
      "cell_type": "code",
      "metadata": {
        "id": "f4uUqFyvOLec",
        "colab_type": "code",
        "colab": {}
      },
      "source": [
        "# This function is taken from Prof Michael Madden's LoadCIFAR10 ipython notebook\n",
        "d = unpickle('cifar-10-batches-py/batches.meta')\n",
        "d[b'label_names']"
      ],
      "execution_count": null,
      "outputs": []
    },
    {
      "cell_type": "code",
      "metadata": {
        "id": "sEZpy9G8OPzL",
        "colab_type": "code",
        "colab": {}
      },
      "source": [
        "# This function is taken from Prof Michael Madden's LoadCIFAR10 ipython notebook\n",
        "def loadbatch(batchname):\n",
        "    folder = 'cifar-10-batches-py'\n",
        "    batch = unpickle(folder+\"/\"+batchname)\n",
        "    return batch"
      ],
      "execution_count": null,
      "outputs": []
    },
    {
      "cell_type": "code",
      "metadata": {
        "id": "7vSKu4S8ORhy",
        "colab_type": "code",
        "colab": {}
      },
      "source": [
        "# This function is taken from Prof Michael Madden's LoadCIFAR10 ipython notebook\n",
        "def loadlabelnames():\n",
        "    folder = 'cifar-10-batches-py'\n",
        "    meta = unpickle(folder+\"/\"+'batches.meta')\n",
        "    return meta[b'label_names']"
      ],
      "execution_count": null,
      "outputs": []
    },
    {
      "cell_type": "code",
      "metadata": {
        "id": "jzvUv_P7OTLK",
        "colab_type": "code",
        "colab": {}
      },
      "source": [
        "# This function is taken from Prof Michael Madden's LoadCIFAR10 ipython notebook\n",
        "import matplotlib.pyplot as plt\n",
        "\n",
        "def visualise(data, index):\n",
        "    # MM Jan 2019: Given a CIFAR data nparray and the index of an image, display the image.\n",
        "    # Note that the images will be quite fuzzy looking, because they are low res (32x32).\n",
        "\n",
        "    picture = data[index]\n",
        "    # Initially, the data is a 1D array of 3072 pixels; reshape it to a 3D array of 3x32x32 pixels\n",
        "    # Note: after reshaping like this, you could select one colour channel or average them.\n",
        "    picture.shape = (3,32,32) \n",
        "    \n",
        "    # Plot.imshow requires the RGB to be the third dimension, not the first, so need to rearrange\n",
        "    picture = picture.transpose([1, 2, 0])\n",
        "    plt.imshow(picture)\n",
        "    plt.show()"
      ],
      "execution_count": null,
      "outputs": []
    },
    {
      "cell_type": "code",
      "metadata": {
        "id": "Hnw8UZhgOU-D",
        "colab_type": "code",
        "colab": {}
      },
      "source": [
        "# This function is taken from Prof Michael Madden's LoadCIFAR10 ipython notebook\n",
        "batch1 = loadbatch('data_batch_1')\n",
        "print(\"Number of items in the batch is\", len(batch1))\n",
        "\n",
        "# Display all keys, so we can see the ones we want\n",
        "print('All keys in the batch:', batch1.keys())"
      ],
      "execution_count": null,
      "outputs": []
    },
    {
      "cell_type": "code",
      "metadata": {
        "id": "R5b3oZfQOXqL",
        "colab_type": "code",
        "colab": {}
      },
      "source": [
        "# This function is taken from Prof Michael Madden's LoadCIFAR10 ipython notebook\n",
        "\n",
        "\n",
        "# all the images in raw RGB values is in data\n",
        "data = batch1[b'data']\n",
        "# all the labels match the index of data \n",
        "labels = batch1[b'labels']\n",
        "\n",
        "# Author : Chandrakanth\n",
        "\n",
        "\n",
        "normalizer = Normalizer()\n",
        "normalizer.fit(data)\n",
        "data = normalizer.transform(data)\n",
        "\n",
        "names = loadlabelnames()\n",
        "\n",
        "\n",
        "df = pd.DataFrame(data)\n",
        "# Classes/ labels of all the  images in this batch\n",
        "df['label'] = pd.Series(labels)"
      ],
      "execution_count": null,
      "outputs": []
    },
    {
      "cell_type": "code",
      "metadata": {
        "id": "aXzviuKdOZjy",
        "colab_type": "code",
        "colab": {}
      },
      "source": [
        "# class 1 is automobile \n",
        "# class 9  is truck\n",
        "\n",
        "df =df.loc[df['label'].isin([1,9])] # filter the dataframe where image is Auto / truck\n",
        "\n",
        "l = list(range(2048, 3072)) # Blue band\n",
        "\n",
        "l.append('label') # list of all the columns we are going to train on \n",
        "df = df.loc[:,df.columns.isin(l)] # keep the blue band & the label\n"
      ],
      "execution_count": null,
      "outputs": []
    },
    {
      "cell_type": "code",
      "metadata": {
        "id": "rIhQv7M7sU2s",
        "colab_type": "code",
        "colab": {}
      },
      "source": [
        "X = df.iloc[:,0:1024] # First 1024 columns are the features\n",
        "Y = df.iloc[:,-1] # label is the class , last column\n",
        "\n",
        "\n",
        "Y = Y.replace(9,0)"
      ],
      "execution_count": null,
      "outputs": []
    },
    {
      "cell_type": "markdown",
      "metadata": {
        "id": "yNMFbSCtR2_t",
        "colab_type": "text"
      },
      "source": [
        "### Training & Testing"
      ]
    },
    {
      "cell_type": "code",
      "metadata": {
        "id": "cYYfvd5XO9O5",
        "colab_type": "code",
        "colab": {
          "base_uri": "https://localhost:8080/",
          "height": 68
        },
        "outputId": "80fd8680-551a-4247-f6e1-14ee2e804250"
      },
      "source": [
        " #25 % is validation set\n",
        "X_train,X_test,Y_train,Y_test =  train_test_split(X,Y, random_state=32)\n",
        "\n",
        "# make the label a vector\n",
        "Y_train = Y_train.to_numpy().reshape(Y_train.shape[0],1) \n",
        "Y_test = Y_test.to_numpy().reshape(Y_test.shape[0],1)\n",
        "\n",
        "#look at the distribution of the labels\n",
        "pd.Series(np.squeeze(Y_test)).value_counts()"
      ],
      "execution_count": null,
      "outputs": [
        {
          "output_type": "execute_result",
          "data": {
            "text/plain": [
              "0    246\n",
              "1    243\n",
              "dtype: int64"
            ]
          },
          "metadata": {
            "tags": []
          },
          "execution_count": 16
        }
      ]
    },
    {
      "cell_type": "code",
      "metadata": {
        "id": "OC06HBtNREim",
        "colab_type": "code",
        "colab": {
          "base_uri": "https://localhost:8080/",
          "height": 408
        },
        "outputId": "d9a83363-a510-4a21-b185-b17b438a859a"
      },
      "source": [
        "hyper_params = { 'num_iter' : 10000,\n",
        "                  'activation' : 'sigmoid' ,\n",
        "                  'hidden_neurons' : 20,\n",
        "                  'learning_rate' : 0.1}\n",
        "\n",
        "nn = OneLayerNeuralNet(hyper_params)\n",
        "\n",
        "print(\"Training started ..\")\n",
        "nn.fit(X_train.iloc[:,0:1024],Y_train)\n",
        "print(\"Training completed ..\")\n",
        "y_predicted = nn.predict(X_test)\n",
        "print(\"Accuracy :\", 100 *accuracy_score(Y_test,y_predicted),\"%\")"
      ],
      "execution_count": null,
      "outputs": [
        {
          "output_type": "stream",
          "text": [
            "Training started ..\n",
            "====> Cost at epoch  500 0.6931382083119761\n",
            "====> Cost at epoch  1000 0.6931319653158128\n",
            "====> Cost at epoch  1500 0.6931221330232162\n",
            "====> Cost at epoch  2000 0.6931056267645397\n",
            "====> Cost at epoch  2500 0.693077269786753\n",
            "====> Cost at epoch  3000 0.6930281781152265\n",
            "====> Cost at epoch  3500 0.6929430066349825\n",
            "====> Cost at epoch  4000 0.692795245601001\n",
            "====> Cost at epoch  4500 0.6925392544640316\n",
            "====> Cost at epoch  5000 0.6920970217389443\n",
            "====> Cost at epoch  5500 0.6913369346620795\n",
            "====> Cost at epoch  6000 0.6900420192096611\n",
            "====> Cost at epoch  6500 0.6878689803316594\n",
            "====> Cost at epoch  7000 0.6843137766240898\n",
            "====> Cost at epoch  7500 0.678735227749133\n",
            "====> Cost at epoch  8000 0.6705422787403004\n",
            "====> Cost at epoch  8500 0.6596414444831789\n",
            "====> Cost at epoch  9000 0.646966830472638\n",
            "====> Cost at epoch  9500 0.6344357914638805\n",
            "====> Cost at epoch  10000 0.6239369357922212\n",
            "Training completed ..\n",
            "Accuracy : 67.89366053169734 %\n"
          ],
          "name": "stdout"
        }
      ]
    },
    {
      "cell_type": "code",
      "metadata": {
        "id": "BmrrmlNdCGZz",
        "colab_type": "code",
        "colab": {
          "base_uri": "https://localhost:8080/",
          "height": 34
        },
        "outputId": "6dc50447-140f-4de2-b846-8b3a8ac341bc"
      },
      "source": [
        "\n",
        "of_X = X_train.iloc[0:X_test.shape[0],:]\n",
        "of_Y = Y_train[0:X_test.shape[0],:]\n",
        "y_train_predicted = nn.predict(of_X)\n",
        "accuracy_score(of_Y,y_train_predicted)"
      ],
      "execution_count": null,
      "outputs": [
        {
          "output_type": "execute_result",
          "data": {
            "text/plain": [
              "0.6748466257668712"
            ]
          },
          "metadata": {
            "tags": []
          },
          "execution_count": 115
        }
      ]
    },
    {
      "cell_type": "markdown",
      "metadata": {
        "id": "p8yO65GtTV2I",
        "colab_type": "text"
      },
      "source": [
        "### Observations\n",
        "\n",
        "A Neural network with 20 neurons in the hidden layer with Sigmoid as the activation function in both hidden and output layer gave the following results:\n",
        "\n",
        "*   Accuracy of 67.4% is attained for learning rate of 0.1 and 10000 iterations. \n",
        "*  Increasing the neurons greater than 20 is not giving accuracy greater than 67%.\n",
        "\n",
        "* Cost (Cross entropy loss) decreases from 0.693 to 0.541 at 10000 iterations after that it increases.   \n",
        "\n",
        "\n",
        "\n"
      ]
    },
    {
      "cell_type": "markdown",
      "metadata": {
        "id": "FGu7353TGt_g",
        "colab_type": "text"
      },
      "source": [
        "Adding Jitter at input layer \n",
        "\n",
        "- Neural networks area known to over fit to training data \n",
        "- This enhancement aims at reducing the possibility of over fitting \n",
        "- From https://arxiv.org/abs/1406.1831, \"Analyzing noise in autoencoders and deep networks\" , they showed that adding a gausian noise or jitter helps to curb overfitting for benchmarking datasets like cifar-10 & MNSIT"
      ]
    },
    {
      "cell_type": "code",
      "metadata": {
        "id": "aH4dpo4p48kJ",
        "colab_type": "code",
        "colab": {}
      },
      "source": [
        "''' We will be building on top of the one layer neural network\n",
        "by creating a class which extends OneLayerNeuralNet \n",
        "\n",
        "https://machinelearningmastery.com/train-neural-networks-with-noise-to-reduce-overfitting/\n",
        "\n",
        "'''\n",
        "class OneLayerNeuralNet_Jittered (OneLayerNeuralNet) :\n",
        "\n",
        "  # the standard deviation of used to get random jitters for the input\n",
        "  __jitter = 0.0\n",
        "\n",
        "  #Author : Chandrakanth Cheturvedi\n",
        "  def __init__(self,hyper_params):\n",
        "    self.__jitter = hyper_params['jitter']\n",
        "    super().__init__(hyper_params)\n",
        "\n",
        "\n",
        "  def fit(self,X_train,Y_train):\n",
        "    print(\"Training with a jitter of \",self.__jitter,\"for all inputs\")\n",
        "    \n",
        "    '''\n",
        "        From the URL referenced above\n",
        "        The most common type of noise used during training is the addition of \n",
        "        Gaussian noise to input variables. Gaussian noise, or white noise, \n",
        "        has a mean of zero and a standard deviation of one and\n",
        "         can be generated as needed using a pseudorandom number generator.\n",
        "    '''\n",
        "\n",
        "    # get gausian jitter for our training samples\n",
        "    jittered_train = X_train + np.random.normal(0,self.__jitter,X_train.shape)\n",
        "    \n",
        "    super().fit(jittered_train,Y_train)"
      ],
      "execution_count": null,
      "outputs": []
    },
    {
      "cell_type": "code",
      "metadata": {
        "id": "ono7W_e5ASJN",
        "colab_type": "code",
        "colab": {
          "base_uri": "https://localhost:8080/",
          "height": 51
        },
        "outputId": "032acc07-3dc0-4cbb-c2bb-eca72c098ef7"
      },
      "source": [
        "# This function is taken from Prof Michael Madden's LoadCIFAR10 ipython notebook\n",
        "batch1 = loadbatch('data_batch_1')\n",
        "print(\"Number of items in the batch is\", len(batch1))\n",
        "\n",
        "# Display all keys, so we can see the ones we want\n",
        "print('All keys in the batch:', batch1.keys())\n",
        "\n",
        "# This function is taken from Prof Michael Madden's LoadCIFAR10 ipython notebook\n",
        "\n",
        "\n",
        "# all the images in raw RGB values is in data\n",
        "data = batch1[b'data']\n",
        "# all the labels match the index of data \n",
        "labels = batch1[b'labels']\n",
        "\n",
        "# Author : Chandrakanth\n",
        "normalizer = Normalizer()\n",
        "normalizer.fit(data)\n",
        "data = normalizer.transform(data)\n",
        "\n",
        "names = loadlabelnames()\n",
        "\n",
        "\n",
        "df = pd.DataFrame(data)\n",
        "# Classes/ labels of all the  images in this batch\n",
        "df['label'] = pd.Series(labels)\n",
        "\n",
        "# class 1 is automobile \n",
        "# class 9  is truck\n",
        "\n",
        "df =df.loc[df['label'].isin([1,9])] # filter the dataframe where image is Auto / truck\n",
        "\n",
        "l = list(range(2048, 3072)) # Blue band\n",
        "\n",
        "l.append('label') # list of all the columns we are going to train on \n",
        "df = df.loc[:,df.columns.isin(l)] # keep the blue band & the label\n",
        "\n",
        "X = df.iloc[:,0:1024] # First 1024 columns are the features\n",
        "Y = df.iloc[:,-1] # label is the class , last column\n",
        "\n",
        "\n",
        "Y = Y.replace(9,0)\t\n",
        "\n",
        " #25 % is validation set\n",
        "X_train,X_test,Y_train,Y_test =  train_test_split(X,Y, random_state=32)\n",
        "\n",
        "# make the label a vector\n",
        "Y_train = Y_train.to_numpy().reshape(Y_train.shape[0],1) \n",
        "Y_test = Y_test.to_numpy().reshape(Y_test.shape[0],1)"
      ],
      "execution_count": null,
      "outputs": [
        {
          "output_type": "stream",
          "text": [
            "Number of items in the batch is 4\n",
            "All keys in the batch: dict_keys([b'batch_label', b'labels', b'data', b'filenames'])\n"
          ],
          "name": "stdout"
        }
      ]
    },
    {
      "cell_type": "code",
      "metadata": {
        "id": "Sw0H0zsO5R_q",
        "colab_type": "code",
        "colab": {
          "base_uri": "https://localhost:8080/",
          "height": 374
        },
        "outputId": "8ad745b7-ecd2-4b36-aaae-dfcd5e92affd"
      },
      "source": [
        "hyper_params = { 'num_iter' : 10000,\n",
        "                  'activation' : 'ReLU' ,\n",
        "                  'hidden_neurons' : 20,\n",
        "                  'learning_rate' : 0.1 ,\n",
        "                  'jitter' : 0.001 }\n",
        "\n",
        "nn = OneLayerNeuralNet_Jittered(hyper_params)\n",
        "nn.fit(X_train,Y_train)"
      ],
      "execution_count": null,
      "outputs": [
        {
          "output_type": "stream",
          "text": [
            "Training with a jitter of  0.001 for all inputs\n",
            "====> Cost at epoch  500 0.6930365630816524\n",
            "====> Cost at epoch  1000 0.6922149066998778\n",
            "====> Cost at epoch  1500 0.6856713595977477\n",
            "====> Cost at epoch  2000 0.652754328726554\n",
            "====> Cost at epoch  2500 0.6134006666457877\n",
            "====> Cost at epoch  3000 0.6024481102638497\n",
            "====> Cost at epoch  3500 0.5970871081025062\n",
            "====> Cost at epoch  4000 0.5921784360620092\n",
            "====> Cost at epoch  4500 0.5873211540599859\n",
            "====> Cost at epoch  5000 0.5824377331949409\n",
            "====> Cost at epoch  5500 0.5774474219249747\n",
            "====> Cost at epoch  6000 0.5724350326714405\n",
            "====> Cost at epoch  6500 0.5673755110618991\n",
            "====> Cost at epoch  7000 0.5623355367667251\n",
            "====> Cost at epoch  7500 0.5573450274177046\n",
            "====> Cost at epoch  8000 0.5524514925900863\n",
            "====> Cost at epoch  8500 0.5476340888295602\n",
            "====> Cost at epoch  9000 0.5428735458868805\n",
            "====> Cost at epoch  9500 0.5381622975342004\n",
            "====> Cost at epoch  10000 0.5334763128797062\n"
          ],
          "name": "stdout"
        }
      ]
    },
    {
      "cell_type": "code",
      "metadata": {
        "id": "o5FYcoxLAmkb",
        "colab_type": "code",
        "colab": {
          "base_uri": "https://localhost:8080/",
          "height": 34
        },
        "outputId": "c0661024-f957-4ae6-b7c9-613631bb857a"
      },
      "source": [
        "y_predicted = nn.predict(X_test)\n",
        "accuracy_score(Y_test,y_predicted)"
      ],
      "execution_count": null,
      "outputs": [
        {
          "output_type": "execute_result",
          "data": {
            "text/plain": [
              "0.6830265848670757"
            ]
          },
          "metadata": {
            "tags": []
          },
          "execution_count": 119
        }
      ]
    },
    {
      "cell_type": "markdown",
      "metadata": {
        "id": "k7SGLESBLEsU",
        "colab_type": "text"
      },
      "source": [
        "### Observation on the enhancement.\n",
        "\n",
        "*   Accuracy improved from **67.8** to **68.3**\n",
        "*   Increasing the no of neurons in the hidden layer doesn't improve the accuracy\n",
        "*   Changing the learning rate to 0.5 not decreasing the as it would do with 0.1\n",
        "*   Jittering by 1 % of the actual X values gives us improvements \n",
        "*   anything higher than 0.01 jitter reduces the accuracy for normalised cifar-10 dataset\n"
      ]
    },
    {
      "cell_type": "markdown",
      "metadata": {
        "id": "g5DKQPTxivWb",
        "colab_type": "text"
      },
      "source": [
        "## References\n",
        "\n",
        "https://towardsdatascience.com/complete-guide-of-activation-functions-34076e95d044\n",
        "\n",
        "https://www.coursera.org/learn/neural-networks-deep-learning/home/info\n",
        "\n",
        "https://towardsdatascience.com/how-to-debug-a-neural-network-with-gradient-checking-41deec0357a9\n",
        "\n",
        "https://towardsdatascience.com/checklist-for-debugging-neural-networks-d8b2a9434f21\n",
        "\n",
        "lecture slides"
      ]
    }
  ]
}